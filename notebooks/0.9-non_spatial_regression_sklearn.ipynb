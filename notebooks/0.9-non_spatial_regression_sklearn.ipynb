{
 "cells": [
  {
   "cell_type": "code",
   "execution_count": 1,
   "id": "59239609",
   "metadata": {},
   "outputs": [],
   "source": [
    "from pathlib import Path\n",
    "import numpy as np\n",
    "import pandas as pd\n",
    "import geopandas as gpd\n",
    "import seaborn as sns\n",
    "import matplotlib.pyplot as plt\n",
    "from sklearn.linear_model import LinearRegression\n",
    "from sklearn.pipeline import Pipeline\n",
    "from sklearn.preprocessing import StandardScaler\n",
    "from sklearn.model_selection import (\n",
    "    cross_validate,\n",
    "    RepeatedKFold,\n",
    ")"
   ]
  },
  {
   "cell_type": "code",
   "execution_count": 2,
   "id": "4614550e",
   "metadata": {},
   "outputs": [],
   "source": [
    "PATH_TO_PROCESSED_FILES = Path(\"../data/processed/\")\n",
    "ROME_GEOJSON = (\n",
    "    PATH_TO_PROCESSED_FILES / \"Rome_urban_zones_with_features_and_emissions_clean__epsg4326.geojson\"\n",
    ")\n",
    "COMPUTE_G_AUTOCORRELATION = False\n",
    "RANDOM_STATE=42\n",
    "N_SPLITS = 5\n",
    "N_REPEATS = 5"
   ]
  },
  {
   "cell_type": "code",
   "execution_count": 3,
   "id": "0333e54c",
   "metadata": {},
   "outputs": [],
   "source": [
    "np.random.seed(RANDOM_STATE)"
   ]
  },
  {
   "cell_type": "markdown",
   "id": "2554f89e",
   "metadata": {},
   "source": [
    "## Loading the spatial tessellation"
   ]
  },
  {
   "cell_type": "code",
   "execution_count": 4,
   "id": "667660ad",
   "metadata": {},
   "outputs": [
    {
     "name": "stdout",
     "output_type": "stream",
     "text": [
      "(155, 21)\n"
     ]
    }
   ],
   "source": [
    "gdf_rome = gpd.read_file(ROME_GEOJSON)\n",
    "print(gdf_rome.shape)"
   ]
  },
  {
   "cell_type": "markdown",
   "id": "3bc76fdc",
   "metadata": {},
   "source": [
    "Based on [Spatial Regression — Geographic Data Science with Python](https://geographicdata.science/book/notebooks/11_regression.html)"
   ]
  },
  {
   "cell_type": "code",
   "execution_count": 5,
   "id": "970cc03a",
   "metadata": {},
   "outputs": [
    {
     "data": {
      "text/html": [
       "<div>\n",
       "<style scoped>\n",
       "    .dataframe tbody tr th:only-of-type {\n",
       "        vertical-align: middle;\n",
       "    }\n",
       "\n",
       "    .dataframe tbody tr th {\n",
       "        vertical-align: top;\n",
       "    }\n",
       "\n",
       "    .dataframe thead th {\n",
       "        text-align: right;\n",
       "    }\n",
       "</style>\n",
       "<table border=\"1\" class=\"dataframe\">\n",
       "  <thead>\n",
       "    <tr style=\"text-align: right;\">\n",
       "      <th></th>\n",
       "      <th>area_code</th>\n",
       "      <th>area_name</th>\n",
       "      <th>SHAPE_Leng</th>\n",
       "      <th>SHAPE_Area</th>\n",
       "      <th>n_traffic_lights</th>\n",
       "      <th>density_traffic_lights</th>\n",
       "      <th>n_shops</th>\n",
       "      <th>density_shops</th>\n",
       "      <th>perc_roads_bc</th>\n",
       "      <th>car_accidents</th>\n",
       "      <th>perc_people_far_from_public_transport</th>\n",
       "      <th>pop_density</th>\n",
       "      <th>avg_CO_2_per_road</th>\n",
       "      <th>CO_2_alpha</th>\n",
       "      <th>avg_NO_x_per_road</th>\n",
       "      <th>NO_x_alpha</th>\n",
       "      <th>avg_PM_per_road</th>\n",
       "      <th>PM_alpha</th>\n",
       "      <th>avg_VOC_per_road</th>\n",
       "      <th>VOC_alpha</th>\n",
       "    </tr>\n",
       "  </thead>\n",
       "  <tbody>\n",
       "    <tr>\n",
       "      <th>0</th>\n",
       "      <td>10L</td>\n",
       "      <td>Morena</td>\n",
       "      <td>22732.760455</td>\n",
       "      <td>8.947226e+06</td>\n",
       "      <td>10</td>\n",
       "      <td>1.117665</td>\n",
       "      <td>960</td>\n",
       "      <td>107.295822</td>\n",
       "      <td>2.447164</td>\n",
       "      <td>182</td>\n",
       "      <td>2.8</td>\n",
       "      <td>36.9</td>\n",
       "      <td>45.691790</td>\n",
       "      <td>1.379673</td>\n",
       "      <td>0.028145</td>\n",
       "      <td>1.379998</td>\n",
       "      <td>0.000711</td>\n",
       "      <td>1.372780</td>\n",
       "      <td>0.135578</td>\n",
       "      <td>1.360149</td>\n",
       "    </tr>\n",
       "    <tr>\n",
       "      <th>1</th>\n",
       "      <td>10A</td>\n",
       "      <td>Don Bosco</td>\n",
       "      <td>8400.069997</td>\n",
       "      <td>2.256348e+06</td>\n",
       "      <td>17</td>\n",
       "      <td>7.534299</td>\n",
       "      <td>1854</td>\n",
       "      <td>821.681815</td>\n",
       "      <td>2.533784</td>\n",
       "      <td>367</td>\n",
       "      <td>93.6</td>\n",
       "      <td>225.9</td>\n",
       "      <td>19.736626</td>\n",
       "      <td>1.506453</td>\n",
       "      <td>0.024918</td>\n",
       "      <td>1.753734</td>\n",
       "      <td>0.000606</td>\n",
       "      <td>1.675556</td>\n",
       "      <td>0.078710</td>\n",
       "      <td>1.261183</td>\n",
       "    </tr>\n",
       "    <tr>\n",
       "      <th>2</th>\n",
       "      <td>10B</td>\n",
       "      <td>Appio-Claudio</td>\n",
       "      <td>9265.317994</td>\n",
       "      <td>3.454590e+06</td>\n",
       "      <td>16</td>\n",
       "      <td>4.631520</td>\n",
       "      <td>1236</td>\n",
       "      <td>357.784910</td>\n",
       "      <td>1.465201</td>\n",
       "      <td>239</td>\n",
       "      <td>99.8</td>\n",
       "      <td>86.1</td>\n",
       "      <td>17.311154</td>\n",
       "      <td>1.406042</td>\n",
       "      <td>0.013976</td>\n",
       "      <td>1.272973</td>\n",
       "      <td>0.000557</td>\n",
       "      <td>1.558339</td>\n",
       "      <td>0.067396</td>\n",
       "      <td>1.041726</td>\n",
       "    </tr>\n",
       "    <tr>\n",
       "      <th>3</th>\n",
       "      <td>10C</td>\n",
       "      <td>Quarto Miglio</td>\n",
       "      <td>11017.098179</td>\n",
       "      <td>5.030157e+06</td>\n",
       "      <td>9</td>\n",
       "      <td>1.789208</td>\n",
       "      <td>738</td>\n",
       "      <td>146.715093</td>\n",
       "      <td>6.109980</td>\n",
       "      <td>144</td>\n",
       "      <td>35.1</td>\n",
       "      <td>21.7</td>\n",
       "      <td>297.379845</td>\n",
       "      <td>1.387901</td>\n",
       "      <td>0.107992</td>\n",
       "      <td>1.418191</td>\n",
       "      <td>0.001484</td>\n",
       "      <td>1.267525</td>\n",
       "      <td>0.525855</td>\n",
       "      <td>1.523452</td>\n",
       "    </tr>\n",
       "    <tr>\n",
       "      <th>4</th>\n",
       "      <td>10D</td>\n",
       "      <td>Pignatelli</td>\n",
       "      <td>5161.962256</td>\n",
       "      <td>9.972986e+05</td>\n",
       "      <td>2</td>\n",
       "      <td>2.005417</td>\n",
       "      <td>178</td>\n",
       "      <td>178.482157</td>\n",
       "      <td>0.000000</td>\n",
       "      <td>50</td>\n",
       "      <td>0.0</td>\n",
       "      <td>66.3</td>\n",
       "      <td>33.474434</td>\n",
       "      <td>1.065894</td>\n",
       "      <td>0.023046</td>\n",
       "      <td>1.000000</td>\n",
       "      <td>0.000804</td>\n",
       "      <td>1.221868</td>\n",
       "      <td>0.103474</td>\n",
       "      <td>1.000000</td>\n",
       "    </tr>\n",
       "  </tbody>\n",
       "</table>\n",
       "</div>"
      ],
      "text/plain": [
       "  area_code      area_name    SHAPE_Leng    SHAPE_Area  n_traffic_lights  \\\n",
       "0       10L         Morena  22732.760455  8.947226e+06                10   \n",
       "1       10A      Don Bosco   8400.069997  2.256348e+06                17   \n",
       "2       10B  Appio-Claudio   9265.317994  3.454590e+06                16   \n",
       "3       10C  Quarto Miglio  11017.098179  5.030157e+06                 9   \n",
       "4       10D     Pignatelli   5161.962256  9.972986e+05                 2   \n",
       "\n",
       "   density_traffic_lights  n_shops  density_shops  perc_roads_bc  \\\n",
       "0                1.117665      960     107.295822       2.447164   \n",
       "1                7.534299     1854     821.681815       2.533784   \n",
       "2                4.631520     1236     357.784910       1.465201   \n",
       "3                1.789208      738     146.715093       6.109980   \n",
       "4                2.005417      178     178.482157       0.000000   \n",
       "\n",
       "   car_accidents  perc_people_far_from_public_transport  pop_density  \\\n",
       "0            182                                    2.8         36.9   \n",
       "1            367                                   93.6        225.9   \n",
       "2            239                                   99.8         86.1   \n",
       "3            144                                   35.1         21.7   \n",
       "4             50                                    0.0         66.3   \n",
       "\n",
       "   avg_CO_2_per_road  CO_2_alpha  avg_NO_x_per_road  NO_x_alpha  \\\n",
       "0          45.691790    1.379673           0.028145    1.379998   \n",
       "1          19.736626    1.506453           0.024918    1.753734   \n",
       "2          17.311154    1.406042           0.013976    1.272973   \n",
       "3         297.379845    1.387901           0.107992    1.418191   \n",
       "4          33.474434    1.065894           0.023046    1.000000   \n",
       "\n",
       "   avg_PM_per_road  PM_alpha  avg_VOC_per_road  VOC_alpha  \n",
       "0         0.000711  1.372780          0.135578   1.360149  \n",
       "1         0.000606  1.675556          0.078710   1.261183  \n",
       "2         0.000557  1.558339          0.067396   1.041726  \n",
       "3         0.001484  1.267525          0.525855   1.523452  \n",
       "4         0.000804  1.221868          0.103474   1.000000  "
      ]
     },
     "execution_count": 5,
     "metadata": {},
     "output_type": "execute_result"
    }
   ],
   "source": [
    "gdf_rome.drop(columns=\"geometry\").head()"
   ]
  },
  {
   "cell_type": "code",
   "execution_count": 6,
   "id": "13ea30eb",
   "metadata": {},
   "outputs": [],
   "source": [
    "feature = \"car_accidents\""
   ]
  },
  {
   "cell_type": "markdown",
   "id": "2b941abb",
   "metadata": {},
   "source": [
    "## Linear regression"
   ]
  },
  {
   "cell_type": "markdown",
   "id": "a476f245",
   "metadata": {},
   "source": [
    "Based on [Urbana - Urban Data Analysis](https://github.com/egregorimar/urbana)"
   ]
  },
  {
   "cell_type": "code",
   "execution_count": 7,
   "id": "c6883b49",
   "metadata": {},
   "outputs": [],
   "source": [
    "dependent_variable = feature\n",
    "independent_variables = [\"density_traffic_lights\", \"density_shops\", \"perc_roads_bc\", \"perc_people_far_from_public_transport\", \"pop_density\", \"avg_CO_2_per_road\"]"
   ]
  },
  {
   "cell_type": "code",
   "execution_count": 8,
   "id": "3b20424f",
   "metadata": {},
   "outputs": [],
   "source": [
    "gdf_rome_connected = gdf_rome.drop(index=[97])"
   ]
  },
  {
   "cell_type": "code",
   "execution_count": 9,
   "id": "5bd3d4e2",
   "metadata": {},
   "outputs": [],
   "source": [
    "X = gdf_rome_connected[independent_variables]\n",
    "y = gdf_rome_connected[feature]"
   ]
  },
  {
   "cell_type": "markdown",
   "id": "dcecd716",
   "metadata": {},
   "source": [
    "## First model"
   ]
  },
  {
   "cell_type": "code",
   "execution_count": 10,
   "id": "7809d1dd",
   "metadata": {},
   "outputs": [],
   "source": [
    "preprocessor = Pipeline(steps=[(\"scaler\", StandardScaler())])\n",
    "\n",
    "pipe_all = Pipeline(\n",
    "    steps=[\n",
    "        (\"preprocessor\", preprocessor),\n",
    "        (\"regressor\", LinearRegression()),\n",
    "    ]\n",
    ")"
   ]
  },
  {
   "cell_type": "markdown",
   "id": "7032a16d",
   "metadata": {},
   "source": [
    "### Sensitivity analysis"
   ]
  },
  {
   "cell_type": "code",
   "execution_count": 11,
   "id": "6972db4c",
   "metadata": {},
   "outputs": [
    {
     "data": {
      "image/png": "[encoded data removed]",
      "text/plain": [
       "<Figure size 1440x864 with 1 Axes>"
      ]
     },
     "metadata": {},
     "output_type": "display_data"
    }
   ],
   "source": [
    "cv_all = cross_validate(\n",
    "    pipe_all,\n",
    "    X,\n",
    "    y,\n",
    "    cv=RepeatedKFold(n_splits=N_SPLITS, n_repeats=N_REPEATS, random_state=RANDOM_STATE),\n",
    "    return_estimator=True,\n",
    "    n_jobs=-1,\n",
    ")\n",
    "\n",
    "coefs_all = pd.DataFrame(\n",
    "    [est.named_steps[\"regressor\"].coef_ for est in cv_all[\"estimator\"]],\n",
    "    columns=X.columns,\n",
    ")\n",
    "\n",
    "medians_all = coefs_all.median()\n",
    "medians_all = medians_all.reindex(medians_all.abs().sort_values(ascending=False).index)\n",
    "coefs_all = coefs_all[medians_all.index]\n",
    "\n",
    "\n",
    "plt.figure(figsize=(20, 2*len(independent_variables)))\n",
    "sns.stripplot(data=coefs_all, orient=\"h\", color=\"k\", alpha=0.5)\n",
    "sns.boxplot(data=coefs_all, orient=\"h\", color=\"cyan\", saturation=0.5)\n",
    "plt.axvline(x=0, color=\".5\")\n",
    "plt.title(f\"Sensitivity Analysis. Regression model to explain {feature} over {N_SPLITS}*{N_REPEATS} training sets.\")\n",
    "\n",
    "plt.show()"
   ]
  },
  {
   "cell_type": "markdown",
   "id": "5087cdcf",
   "metadata": {},
   "source": [
    "# Watermark"
   ]
  },
  {
   "cell_type": "code",
   "execution_count": 12,
   "id": "17b9e541",
   "metadata": {},
   "outputs": [
    {
     "name": "stdout",
     "output_type": "stream",
     "text": [
      "Last updated: 2022-03-22T23:37:13.030499+01:00\n",
      "\n",
      "Python implementation: CPython\n",
      "Python version       : 3.8.12\n",
      "IPython version      : 8.0.1\n",
      "\n",
      "Compiler    : GCC 9.4.0\n",
      "OS          : Linux\n",
      "Release     : 4.4.0-210-generic\n",
      "Machine     : x86_64\n",
      "Processor   : x86_64\n",
      "CPU cores   : 40\n",
      "Architecture: 64bit\n",
      "\n"
     ]
    }
   ],
   "source": [
    "%load_ext watermark\n",
    "%watermark"
   ]
  },
  {
   "cell_type": "code",
   "execution_count": 13,
   "id": "47dcec72",
   "metadata": {},
   "outputs": [
    {
     "name": "stdout",
     "output_type": "stream",
     "text": [
      "numpy     : 1.22.2\n",
      "seaborn   : 0.11.2\n",
      "pandas    : 1.4.1\n",
      "geopandas : 0.10.2\n",
      "matplotlib: 3.5.1\n",
      "sys       : 3.8.12 | packaged by conda-forge | (default, Jan 30 2022, 23:42:07) \n",
      "[GCC 9.4.0]\n",
      "\n"
     ]
    }
   ],
   "source": [
    "%watermark --iversions"
   ]
  }
 ],
 "metadata": {
  "interpreter": {
   "hash": "c384bdb69f06b5b8ba8382c1230a9adcce7ca2e6bd91e3c13e015c97ac909aef"
  },
  "kernelspec": {
   "display_name": "Python (urbem)",
   "language": "python",
   "name": "python3"
  },
  "language_info": {
   "codemirror_mode": {
    "name": "ipython",
    "version": 3
   },
   "file_extension": ".py",
   "mimetype": "text/x-python",
   "name": "python",
   "nbconvert_exporter": "python",
   "pygments_lexer": "ipython3",
   "version": "3.8.12"
  }
 },
 "nbformat": 4,
 "nbformat_minor": 5
}
