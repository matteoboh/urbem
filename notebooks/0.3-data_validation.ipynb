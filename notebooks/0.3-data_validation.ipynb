{
 "cells": [
  {
   "cell_type": "code",
   "execution_count": 1,
   "id": "59239609",
   "metadata": {},
   "outputs": [],
   "source": [
    "import numpy as np\n",
    "import geopandas as gpd\n",
    "import pandera as pa\n",
    "from pandera.typing import DataFrame, Series\n",
    "from pandera.typing.geopandas import GeoSeries\n",
    "from pathlib import Path\n",
    "import janitor"
   ]
  },
  {
   "cell_type": "code",
   "execution_count": 2,
   "id": "4614550e",
   "metadata": {},
   "outputs": [],
   "source": [
    "PATH_TO_PROCESSED_FILES = Path(\"../data/processed/\")\n",
    "ROME_GEOJSON = (\n",
    "    PATH_TO_PROCESSED_FILES / \"Rome_urban_zones_with_features__epsg4326.geojson\"\n",
    ")\n",
    "SAVE_OUTPUT = True\n",
    "OUTPUT_ROME_GEOJSON = (\n",
    "    PATH_TO_PROCESSED_FILES / \"Rome_urban_zones_with_features_clean__epsg4326.geojson\"\n",
    ")"
   ]
  },
  {
   "cell_type": "markdown",
   "id": "2554f89e",
   "metadata": {},
   "source": [
    "## Loading the spatial tessellation"
   ]
  },
  {
   "cell_type": "code",
   "execution_count": 3,
   "id": "667660ad",
   "metadata": {},
   "outputs": [
    {
     "name": "stdout",
     "output_type": "stream",
     "text": [
      "(155, 13)\n"
     ]
    }
   ],
   "source": [
    "raw_gdf_rome = gpd.read_file(ROME_GEOJSON)\n",
    "print(raw_gdf_rome.shape)"
   ]
  },
  {
   "cell_type": "markdown",
   "id": "19102b5e",
   "metadata": {},
   "source": [
    "## Data transformation and validation"
   ]
  },
  {
   "cell_type": "code",
   "execution_count": 4,
   "id": "37cd8ec5",
   "metadata": {},
   "outputs": [],
   "source": [
    "class FeaturesGeoDataFrameSchema(pa.SchemaModel):\n",
    "    area_code: Series[str] = pa.Field(nullable=False, unique=True, str_matches=r\"\\d+[A-Z]\")\n",
    "    area_name: Series[str] = pa.Field(nullable=False, unique=True)\n",
    "    SHAPE_Leng: Series[float] = pa.Field(ge=0, nullable=False)\n",
    "    SHAPE_Area: Series[float] = pa.Field(ge=0, nullable=False)\n",
    "    n_traffic_lights: Series[int] = pa.Field(ge=0, nullable=False, coerce=True)\n",
    "    density_traffic_lights: Series[float] = pa.Field(ge=0, nullable=False)\n",
    "    n_shops: Series[int] = pa.Field(ge=0, nullable=False, coerce=True)\n",
    "    density_shops: Series[float] = pa.Field(ge=0, nullable=False)\n",
    "    perc_roads_bc: Series[float] = pa.Field(ge=0, le=100, nullable=False)\n",
    "    car_accidents: Series[int] = pa.Field(ge=0, nullable=False, coerce=True)\n",
    "    perc_people_far_from_public_transport: Series[float] = pa.Field(ge=0, le=100, nullable=False)\n",
    "    pop_density: Series[float] = pa.Field(ge=0, nullable=False)\n",
    "    geometry: GeoSeries = pa.Field(nullable=False)"
   ]
  },
  {
   "cell_type": "code",
   "execution_count": 5,
   "id": "6b772a47",
   "metadata": {},
   "outputs": [
    {
     "name": "stdout",
     "output_type": "stream",
     "text": [
      "Error while coercing 'car_accidents' to type int64: Could not coerce <class 'pandas.core.series.Series'> data_container into type int64:\n",
      "   index  failure_case\n",
      "0     97           NaN\n"
     ]
    }
   ],
   "source": [
    "try:\n",
    "    FeaturesGeoDataFrameSchema(raw_gdf_rome)\n",
    "except pa.errors.SchemaError as exc:\n",
    "    print(exc)"
   ]
  },
  {
   "cell_type": "code",
   "execution_count": 6,
   "id": "011abba7",
   "metadata": {},
   "outputs": [],
   "source": [
    "@pa.check_types()\n",
    "def fill_nans(gdf_rome: DataFrame) -> DataFrame[FeaturesGeoDataFrameSchema]:\n",
    "    indices = gdf_rome.index[gdf_rome[\"area_code\"] == \"20O\"]\n",
    "    assert len(indices) == 1\n",
    "    index_area20O = indices[0]\n",
    "\n",
    "    if np.isnan(gdf_rome.loc[index_area20O, \"car_accidents\"]):\n",
    "        gdf_rome.loc[index_area20O, \"car_accidents\"] = 0\n",
    "    if np.isnan(gdf_rome.loc[index_area20O, \"perc_roads_bc\"]):\n",
    "        gdf_rome.loc[index_area20O, \"perc_roads_bc\"] = 0\n",
    "    return gdf_rome\n",
    "\n",
    "@pa.check_types()\n",
    "def clean_data(gdf: DataFrame[FeaturesGeoDataFrameSchema]) -> DataFrame[FeaturesGeoDataFrameSchema]:\n",
    "    return (\n",
    "        gdf\n",
    "        .change_type(\"area_code\", str)\n",
    "        .change_type(\"area_name\", str)\n",
    "        .change_type(\"n_traffic_lights\", int)\n",
    "        .change_type(\"n_shops\", int)\n",
    "        .change_type(\"car_accidents\", int)\n",
    "    )\n",
    "\n",
    "gdf_rome = (raw_gdf_rome\n",
    "    .pipe(fill_nans)\n",
    "    .pipe(clean_data)\n",
    ")"
   ]
  },
  {
   "cell_type": "code",
   "execution_count": 7,
   "id": "61ba55a7",
   "metadata": {},
   "outputs": [
    {
     "name": "stderr",
     "output_type": "stream",
     "text": [
      "/home/preyes/.pyenv/versions/anaconda3-5.3.1/envs/urbem/lib/python3.8/site-packages/geopandas/io/file.py:362: FutureWarning: pandas.Int64Index is deprecated and will be removed from pandas in a future version. Use pandas.Index with the appropriate dtype instead.\n",
      "  pd.Int64Index,\n"
     ]
    }
   ],
   "source": [
    "if SAVE_OUTPUT:\n",
    "    gdf_rome.to_file(OUTPUT_ROME_GEOJSON, driver='GeoJSON')"
   ]
  },
  {
   "cell_type": "markdown",
   "id": "5087cdcf",
   "metadata": {},
   "source": [
    "# Watermark"
   ]
  },
  {
   "cell_type": "code",
   "execution_count": 8,
   "id": "17b9e541",
   "metadata": {},
   "outputs": [
    {
     "name": "stdout",
     "output_type": "stream",
     "text": [
      "Last updated: 2022-02-25T23:12:16.511236+01:00\n",
      "\n",
      "Python implementation: CPython\n",
      "Python version       : 3.8.12\n",
      "IPython version      : 8.0.1\n",
      "\n",
      "Compiler    : GCC 9.4.0\n",
      "OS          : Linux\n",
      "Release     : 4.4.0-210-generic\n",
      "Machine     : x86_64\n",
      "Processor   : x86_64\n",
      "CPU cores   : 40\n",
      "Architecture: 64bit\n",
      "\n"
     ]
    }
   ],
   "source": [
    "%load_ext watermark\n",
    "%watermark"
   ]
  },
  {
   "cell_type": "code",
   "execution_count": 9,
   "id": "47dcec72",
   "metadata": {},
   "outputs": [
    {
     "name": "stdout",
     "output_type": "stream",
     "text": [
      "geopandas : 0.10.2\n",
      "janitor   : 0.22.0\n",
      "sys       : 3.8.12 | packaged by conda-forge | (default, Jan 30 2022, 23:42:07) \n",
      "[GCC 9.4.0]\n",
      "pandera   : 0.9.0\n",
      "numpy     : 1.22.2\n",
      "matplotlib: 3.5.1\n",
      "pandas    : 1.4.1\n",
      "\n"
     ]
    }
   ],
   "source": [
    "%watermark --iversions"
   ]
  }
 ],
 "metadata": {
  "interpreter": {
   "hash": "0303aa8756738c35b932e09aa20dbeb5de961b461975f540a86f045861cc4f9e"
  },
  "kernelspec": {
   "display_name": "Python (urbem)",
   "language": "python",
   "name": "python3"
  },
  "language_info": {
   "codemirror_mode": {
    "name": "ipython",
    "version": 3
   },
   "file_extension": ".py",
   "mimetype": "text/x-python",
   "name": "python",
   "nbconvert_exporter": "python",
   "pygments_lexer": "ipython3",
   "version": "3.8.12"
  }
 },
 "nbformat": 4,
 "nbformat_minor": 5
}
